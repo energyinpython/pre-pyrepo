{
 "cells": [
  {
   "cell_type": "code",
   "execution_count": 1,
   "metadata": {},
   "outputs": [
    {
     "name": "stdout",
     "output_type": "stream",
     "text": [
      "Detecting python files..\n",
      "Analyzing 44 files using 8 processes..\n",
      "~2, ~3       C:\\Informatyka\\packaging_tutorial\\pre-pyrepo\\build\\lib\\pyrepo\\__init__.py\n",
      "2.4, 3.0     C:\\Informatyka\\packaging_tutorial\\pre-pyrepo\\build\\lib\\pyrepo\\additions.py\n",
      "2.6, 3.0     C:\\Informatyka\\packaging_tutorial\\pre-pyrepo\\build\\lib\\pyrepo\\compromise_rankings.py\n",
      "2.3, 3.0     C:\\Informatyka\\packaging_tutorial\\pre-pyrepo\\build\\lib\\pyrepo\\correlations.py\n",
      "2.6, 3.0     C:\\Informatyka\\packaging_tutorial\\pre-pyrepo\\build\\lib\\pyrepo\\distance_metrics.py\n",
      "~2, ~3       C:\\Informatyka\\packaging_tutorial\\pre-pyrepo\\build\\lib\\pyrepo\\mcda_methods\\__init__.py\n",
      "2.6, 3.0     C:\\Informatyka\\packaging_tutorial\\pre-pyrepo\\build\\lib\\pyrepo\\mcda_methods\\codas.py\n",
      "~2, ~3       C:\\Informatyka\\packaging_tutorial\\pre-pyrepo\\build\\lib\\pyrepo\\mcda_methods\\edas.py\n",
      "~2, ~3       C:\\Informatyka\\packaging_tutorial\\pre-pyrepo\\build\\lib\\pyrepo\\mcda_methods\\mabac.py\n",
      "!2, 3.4      C:\\Informatyka\\packaging_tutorial\\pre-pyrepo\\build\\lib\\pyrepo\\mcda_methods\\mcda_method.py\n",
      "2.4, 3.0     C:\\Informatyka\\packaging_tutorial\\pre-pyrepo\\build\\lib\\pyrepo\\mcda_methods\\multimoora.py\n",
      "2.4, 3.0     C:\\Informatyka\\packaging_tutorial\\pre-pyrepo\\build\\lib\\pyrepo\\mcda_methods\\spotis.py\n",
      "2.4, 3.0     C:\\Informatyka\\packaging_tutorial\\pre-pyrepo\\build\\lib\\pyrepo\\mcda_methods\\topsis.py\n",
      "2.4, 3.0     C:\\Informatyka\\packaging_tutorial\\pre-pyrepo\\build\\lib\\pyrepo\\mcda_methods\\vikor.py\n",
      "2.4, 3.0     C:\\Informatyka\\packaging_tutorial\\pre-pyrepo\\build\\lib\\pyrepo\\mcda_methods\\waspas.py\n",
      "~2, ~3       C:\\Informatyka\\packaging_tutorial\\pre-pyrepo\\build\\lib\\pyrepo\\normalizations.py\n",
      "2.6, 3.0     C:\\Informatyka\\packaging_tutorial\\pre-pyrepo\\build\\lib\\pyrepo\\sensitivity_analysis.py\n",
      "2.6, 3.0     C:\\Informatyka\\packaging_tutorial\\pre-pyrepo\\build\\lib\\pyrepo\\weighting_methods.py\n",
      "~2, ~3       C:\\Informatyka\\packaging_tutorial\\pre-pyrepo\\docs\\source\\conf.py\n",
      "2.2, 3.0     C:\\Informatyka\\packaging_tutorial\\pre-pyrepo\\examples\\main_basic.py\n",
      "2.6, 3.0     C:\\Informatyka\\packaging_tutorial\\pre-pyrepo\\examples\\main_simulations.py\n",
      "2.6, 3.0     C:\\Informatyka\\packaging_tutorial\\pre-pyrepo\\examples\\visualizations.py\n",
      "~2, ~3       C:\\Informatyka\\packaging_tutorial\\pre-pyrepo\\pyrepo\\__init__.py\n",
      "2.4, 3.0     C:\\Informatyka\\packaging_tutorial\\pre-pyrepo\\pyrepo\\additions.py\n",
      "2.6, 3.0     C:\\Informatyka\\packaging_tutorial\\pre-pyrepo\\pyrepo\\compromise_rankings.py\n",
      "2.3, 3.0     C:\\Informatyka\\packaging_tutorial\\pre-pyrepo\\pyrepo\\correlations.py\n",
      "2.6, 3.0     C:\\Informatyka\\packaging_tutorial\\pre-pyrepo\\pyrepo\\distance_metrics.py\n",
      "~2, ~3       C:\\Informatyka\\packaging_tutorial\\pre-pyrepo\\pyrepo\\mcda_methods\\__init__.py\n",
      "2.6, 3.0     C:\\Informatyka\\packaging_tutorial\\pre-pyrepo\\pyrepo\\mcda_methods\\codas.py\n",
      "~2, ~3       C:\\Informatyka\\packaging_tutorial\\pre-pyrepo\\pyrepo\\mcda_methods\\edas.py\n",
      "~2, ~3       C:\\Informatyka\\packaging_tutorial\\pre-pyrepo\\pyrepo\\mcda_methods\\mabac.py\n",
      "!2, 3.4      C:\\Informatyka\\packaging_tutorial\\pre-pyrepo\\pyrepo\\mcda_methods\\mcda_method.py\n",
      "2.4, 3.0     C:\\Informatyka\\packaging_tutorial\\pre-pyrepo\\pyrepo\\mcda_methods\\multimoora.py\n",
      "2.4, 3.0     C:\\Informatyka\\packaging_tutorial\\pre-pyrepo\\pyrepo\\mcda_methods\\spotis.py\n",
      "2.4, 3.0     C:\\Informatyka\\packaging_tutorial\\pre-pyrepo\\pyrepo\\mcda_methods\\topsis.py\n",
      "2.4, 3.0     C:\\Informatyka\\packaging_tutorial\\pre-pyrepo\\pyrepo\\mcda_methods\\vikor.py\n",
      "2.4, 3.0     C:\\Informatyka\\packaging_tutorial\\pre-pyrepo\\pyrepo\\mcda_methods\\waspas.py\n",
      "~2, ~3       C:\\Informatyka\\packaging_tutorial\\pre-pyrepo\\pyrepo\\normalizations.py\n",
      "2.6, 3.0     C:\\Informatyka\\packaging_tutorial\\pre-pyrepo\\pyrepo\\sensitivity_analysis.py\n",
      "2.6, 3.0     C:\\Informatyka\\packaging_tutorial\\pre-pyrepo\\pyrepo\\weighting_methods.py\n",
      "!2, 3.0      C:\\Informatyka\\packaging_tutorial\\pre-pyrepo\\setup.py\n",
      "2.1, 3.0     C:\\Informatyka\\packaging_tutorial\\pre-pyrepo\\tests\\test_correlations.py\n",
      "2.1, 3.0     C:\\Informatyka\\packaging_tutorial\\pre-pyrepo\\tests\\test_mcda_methods.py\n",
      "2.1, 3.0     C:\\Informatyka\\packaging_tutorial\\pre-pyrepo\\tests\\test_weights.py\n",
      "Tip: Since '# novm' or '# novermin' weren't used, a speedup can be achieved using: --no-parse-comments\n",
      "Minimum required versions: 3.4\n",
      "Incompatible versions:     2\n"
     ]
    }
   ],
   "source": [
    "!vermin -v examples C:\\Informatyka\\packaging_tutorial\\pre-pyrepo"
   ]
  },
  {
   "cell_type": "code",
   "execution_count": null,
   "metadata": {},
   "outputs": [],
   "source": []
  }
 ],
 "metadata": {
  "kernelspec": {
   "display_name": "Python 3",
   "language": "python",
   "name": "python3"
  },
  "language_info": {
   "codemirror_mode": {
    "name": "ipython",
    "version": 3
   },
   "file_extension": ".py",
   "mimetype": "text/x-python",
   "name": "python",
   "nbconvert_exporter": "python",
   "pygments_lexer": "ipython3",
   "version": "3.8.6"
  }
 },
 "nbformat": 4,
 "nbformat_minor": 4
}
